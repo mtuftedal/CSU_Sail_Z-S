{
 "cells": [
  {
   "cell_type": "code",
   "execution_count": 7,
   "id": "9dfd1d3f",
   "metadata": {},
   "outputs": [],
   "source": [
    "# importing libraries\n",
    "import os\n",
    "import time\n",
    "import numpy as np\n",
    "import pyart\n",
    "import matplotlib.pyplot as plt\n",
    "import cartopy\n",
    "import cartopy.crs as ccrs\n",
    "from netCDF4 import Dataset"
   ]
  },
  {
   "cell_type": "code",
   "execution_count": 2,
   "id": "8d4815a7",
   "metadata": {},
   "outputs": [],
   "source": [
    "# Path to radar data on my local machine.\n",
    "radar_path = r'Z:/Matt/work/X_Band/'\n",
    "rdr_files = os.listdir(radar_path)"
   ]
  },
  {
   "cell_type": "code",
   "execution_count": 3,
   "id": "4ce81190",
   "metadata": {
    "scrolled": true
   },
   "outputs": [
    {
     "data": {
      "text/plain": [
       "['Radar_data',\n",
       " 'gucxprecipradarS2.00.20220314.000031.raw.nc.tar',\n",
       " 'gucxprecipradarS2.00.20220314.004440.raw.nc.tar',\n",
       " 'gucxprecipradarS2.00.20220314.012831.raw.nc.tar',\n",
       " 'gucxprecipradarS2.00.20220314.021215.raw.nc.tar',\n",
       " 'gucxprecipradarS2.00.20220314.024143.raw.csu.sail-20220314-024143_47667_22_328_RHI.nc',\n",
       " 'gucxprecipradarS2.00.20220314.024149.raw.csu.sail-20220314-024149_47668_22_330_RHI.nc',\n",
       " 'gucxprecipradarS2.00.20220314.024155.raw.csu.sail-20220314-024155_47670_22_332_RHI.nc',\n",
       " 'gucxprecipradarS2.00.20220314.024759.raw.csu.sail-20220314-024759_47699_22_1_PPI.nc',\n",
       " 'gucxprecipradarS2.00.20220314.024831.raw.csu.sail-20220314-024831_47700_22_2_PPI.nc',\n",
       " 'gucxprecipradarS2.00.20220314.024903.raw.csu.sail-20220314-024903_47701_22_4_PPI.nc',\n",
       " 'gucxprecipradarS2.00.20220314.024935.raw.csu.sail-20220314-024935_47702_22_6_PPI.nc',\n",
       " 'gucxprecipradarS2.00.20220314.025007.raw.csu.sail-20220314-025007_47703_22_8_PPI.nc',\n",
       " 'gucxprecipradarS2.00.20220314.025039.raw.csu.sail-20220314-025039_47704_22_10_PPI.nc',\n",
       " 'gucxprecipradarS2.00.20220314.025111.raw.csu.sail-20220314-025111_47706_22_12_PPI.nc',\n",
       " 'gucxprecipradarS2.00.20220314.025143.raw.csu.sail-20220314-025143_47707_22_15_PPI.nc',\n",
       " 'gucxprecipradarS2.00.20220314.025559.raw.nc.tar',\n",
       " 'gucxprecipradarS2.00.20220314.033944.raw.nc.tar',\n",
       " 'gucxprecipradarS2.00.20220314.042400.raw.nc.tar',\n",
       " 'gucxprecipradarS2.00.20220314_all_PPI.nc']"
      ]
     },
     "execution_count": 3,
     "metadata": {},
     "output_type": "execute_result"
    }
   ],
   "source": [
    "# Verifying what files exist in the list of radar files. \n",
    "# In this case, I have several tar files that aren't opened.\n",
    "rdr_files"
   ]
  },
  {
   "cell_type": "markdown",
   "id": "8815f5fd",
   "metadata": {},
   "source": [
    "Now for actually reading the data file we're looking for. In this case, we want the lowest elevation scan available. The CSU SAIL X-band radar data comes in individual netcdf files with the ending prefix of PPI or RHI. In this case, we want the lowest elevation scan of the PPI. We'll loop through the files in the directory and pull out the file with the name we're looking for. "
   ]
  },
  {
   "cell_type": "code",
   "execution_count": 8,
   "id": "186e0201",
   "metadata": {},
   "outputs": [],
   "source": [
    "for i in sorted(range(len(rdr_files))):\n",
    "    files = str(rdr_files[i])\n",
    "    if '_1_PPI.nc' in str(files):\n",
    "        filename = files\n",
    "        \n",
    "        # Joins the data to the path for it to be read\n",
    "        filename = os.path.join(radar_path, filename)\n",
    "\n",
    "        # Reads the data in.\n",
    "        radar = pyart.io.read(filename)"
   ]
  },
  {
   "cell_type": "code",
   "execution_count": 9,
   "id": "ce726dd8",
   "metadata": {},
   "outputs": [
    {
     "data": {
      "text/plain": [
       "'Z:/Matt/work/X_Band/gucxprecipradarS2.00.20220314.024759.raw.csu.sail-20220314-024759_47699_22_1_PPI.nc'"
      ]
     },
     "execution_count": 9,
     "metadata": {},
     "output_type": "execute_result"
    }
   ],
   "source": [
    "        # Checking to make sure it's pulling the correct file name.\n",
    "        filename"
   ]
  },
  {
   "cell_type": "code",
   "execution_count": 10,
   "id": "1c918b3a",
   "metadata": {},
   "outputs": [
    {
     "name": "stderr",
     "output_type": "stream",
     "text": [
      "C:\\Users\\matth\\anaconda3\\envs\\PyArt\\lib\\site-packages\\pyart\\retrieve\\simple_moment_calculations.py:298: DeprecationWarning: Please use `median_filter` from the `scipy.ndimage` namespace, the `scipy.ndimage.filters` namespace is deprecated.\n",
      "  vel_texture_field['data'] = ndimage.filters.median_filter(vel_texture,\n"
     ]
    }
   ],
   "source": [
    "        # Quickly qc data using velocity texture. This is moreso to filter out noise.\n",
    "        # The filtering may be aggressive on this, but it's mainly for the plot.\n",
    "        vel_texture = pyart.retrieve.calculate_velocity_texture(\n",
    "            radar, vel_field='VEL', wind_size=3, nyq=33.4)\n",
    "        radar.add_field('velocity_texture', vel_texture, replace_existing=True)\n",
    "        # Add a gatefilter, and filter using a threshold value of 4 - could be refined\n",
    "        gatefilter = pyart.filters.GateFilter(radar)\n",
    "        gatefilter.exclude_above('velocity_texture', 3)"
   ]
  },
  {
   "cell_type": "markdown",
   "id": "1ba0988b",
   "metadata": {},
   "source": [
    "Setting up for Z-S relationship from a github example from Scott Collis. https://github.com/scollis/notebooks/blob/master/urban/Boston%20Snow%20Retrieval.ipynb\n",
    "Relationship values derived from a paper by Sergey Matrosov. https://journals.ametsoc.org/view/journals/atot/26/11/2009jtecha1238_1.xml#i1520-0426-26-11-2324-e8\n",
    "\n",
    "This section creates a radar field similar to DBZ to add in the estimated snowfall rate in mm/h. Additionally some meta data is added. This snippet of code can be initally found in the github notebook by Scott Collis and a and b values from the paper by Sergy Matrosov. "
   ]
  },
  {
   "cell_type": "code",
   "execution_count": 11,
   "id": "c11f61b0",
   "metadata": {},
   "outputs": [],
   "source": [
    "        SWE_ratio = 8.5\n",
    "        snow_z = radar.fields['DBZ']['data'].copy()\n",
    "        # Convert it from dB to linear units\n",
    "        z_lin = 10.0**(radar.fields['DBZ']['data']/10.)\n",
    "        # Apply the Z-S relation, in this case the WSR-88D Northeast relation\n",
    "        snow_z = SWE_ratio * (z_lin/67)**(1.28)  # a=120 b 2\n",
    "        # Add the field back to the radar. Use reflectivity as a template\n",
    "        radar.add_field_like('DBZ', 'snow_z',  snow_z, replace_existing=True)\n",
    "        # Update units and metadata\n",
    "        radar.fields['snow_z']['units'] = 'mm/h'\n",
    "        radar.fields['snow_z']['standard_name'] = 'snowfall_rate'\n",
    "        radar.fields['snow_z']['long_name'] = 'snowfall_rate_from_z'\n",
    "        radar.fields['snow_z']['valid_min'] = 0\n",
    "        radar.fields['snow_z']['valid_max'] = 500\n",
    "        smax = 60\n"
   ]
  },
  {
   "cell_type": "markdown",
   "id": "10243f4b",
   "metadata": {},
   "source": [
    "Next, we'll plot our data using cartopy for the base of the map. We'll create a plot with 2 panes to see the corresponding reflectivity values to the estimated snowfall rate. We'll be defining some different parameters for plotting in this section that can be done in various different ways. "
   ]
  },
  {
   "cell_type": "code",
   "execution_count": 13,
   "id": "251cef5c",
   "metadata": {},
   "outputs": [
    {
     "name": "stderr",
     "output_type": "stream",
     "text": [
      "C:\\Users\\matth\\anaconda3\\envs\\PyArt\\lib\\site-packages\\cartopy\\crs.py:2320: DeprecationWarning: `np.float` is a deprecated alias for the builtin `float`. To silence this warning, use `float` by itself. Doing this will not modify any behavior and is safe. If you specifically wanted the numpy scalar type, use `np.float64` here.\n",
      "Deprecated in NumPy 1.20; for more details and guidance: https://numpy.org/devdocs/release/1.20.0-notes.html#deprecations\n",
      "  a = np.float(self.globe.semimajor_axis or WGS84_SEMIMAJOR_AXIS)\n",
      "C:\\Users\\matth\\anaconda3\\envs\\PyArt\\lib\\site-packages\\cartopy\\crs.py:2321: DeprecationWarning: `np.float` is a deprecated alias for the builtin `float`. To silence this warning, use `float` by itself. Doing this will not modify any behavior and is safe. If you specifically wanted the numpy scalar type, use `np.float64` here.\n",
      "Deprecated in NumPy 1.20; for more details and guidance: https://numpy.org/devdocs/release/1.20.0-notes.html#deprecations\n",
      "  b = np.float(self.globe.semiminor_axis or a)\n"
     ]
    }
   ],
   "source": [
    "        # Gets the coordinates of the radar.\n",
    "        center_lon = radar.longitude['data'][0]\n",
    "        center_lat = radar.latitude['data'][0]\n",
    "\n",
    "        # Define range around center coordinates to plot.  This is in degrees latitude/longitude\n",
    "        # I have selected +-0.20 around the radar, value can be edited.\n",
    "        min_lat = center_lat-0.20\n",
    "        max_lat = center_lat+0.20\n",
    "        min_lon = center_lon-0.20\n",
    "        max_lon = center_lon+0.20\n",
    "        \n",
    "        # Used to create the display for plotting\n",
    "        display = pyart.graph.RadarMapDisplay(radar)\n",
    "        "
   ]
  },
  {
   "cell_type": "code",
   "execution_count": null,
   "id": "2b55b016",
   "metadata": {},
   "outputs": [],
   "source": [
    "        fig = plt.figure(figsize=[16,18],dpi=150)  #Create figure\n",
    "\n",
    "        ax1 = plt.subplot(221,projection = ccrs.PlateCarree())\n",
    "        ax1.coastlines(linewidth=0.1,resolution='50m',zorder=2)\n",
    "        ax1.add_feature(cartopy.feature.STATES,linewidth=0.1,zorder=1)\n",
    "        display.plot_ppi_map('DBZ',vmin=-15, vmax=70,\n",
    "                                         min_lon=min_lon, max_lon=max_lon, min_lat=min_lat, max_lat=max_lat,\n",
    "                                         resolution='10m',ax=ax1,\n",
    "                                         cmap=pyart.graph.cm_colorblind.HomeyerRainbow,fig=fig,\n",
    "                                         lat_0=center_lat,lon_0=center_lon,\n",
    "                                         colorbar_flag=1,gatefilter=gatefilter)\n",
    "        \n",
    "\n",
    "        ax2 = plt.subplot(222,projection = ccrs.PlateCarree())\n",
    "        ax2.coastlines(linewidth=0.1,resolution='50m',zorder=2)\n",
    "        ax2.add_feature(cartopy.feature.STATES,linewidth=0.1,zorder=1)\n",
    "\n",
    "        # Plot a PPI, lowest tilt. Use the Homeyer CVD friendly colormap. Range between zere and smax mm/hr\n",
    "        # Skip the bells and whistles, we will roll our own (embelish)\n",
    "        display.plot_ppi_map('snow_z',vmin=0, vmax=smax,min_lon=min_lon, max_lon=max_lon,\n",
    "                             min_lat=min_lat, max_lat=max_lat, ax=ax2,colorbar_flag=1,\n",
    "                        cmap=pyart.graph.cm_colorblind.HomeyerRainbow,gatefilter=gatefilter)\n",
    "\n",
    "        # This will clear the figure if you're looping through multiple files of data. \n",
    "        #Otherwise you may continue to write over the same image\n",
    "        # plt.clf()"
   ]
  }
 ],
 "metadata": {
  "kernelspec": {
   "display_name": "Python 3 (ipykernel)",
   "language": "python",
   "name": "python3"
  },
  "language_info": {
   "codemirror_mode": {
    "name": "ipython",
    "version": 3
   },
   "file_extension": ".py",
   "mimetype": "text/x-python",
   "name": "python",
   "nbconvert_exporter": "python",
   "pygments_lexer": "ipython3",
   "version": "3.9.12"
  }
 },
 "nbformat": 4,
 "nbformat_minor": 5
}
